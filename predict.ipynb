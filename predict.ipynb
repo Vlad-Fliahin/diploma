{
 "cells": [
  {
   "cell_type": "code",
   "execution_count": 14,
   "metadata": {},
   "outputs": [],
   "source": [
    "import traceback\n",
    "import json\n",
    "import tomllib as tomlib\n",
    "from pathlib import Path\n",
    "from dotenv import load_dotenv\n",
    "from tqdm import tqdm\n",
    "\n",
    "# from huggingface_hub import login\n",
    "from llama_index.core import Settings, VectorStoreIndex, get_response_synthesizer, SimpleDirectoryReader, StorageContext\n",
    "from llama_index.core.node_parser import TokenTextSplitter, SentenceSplitter\n",
    "from llama_index.core.query_engine import RetrieverQueryEngine\n",
    "from llama_index.core.indices.vector_store.retrievers import VectorIndexRetriever\n",
    "# from llama_index.core.postprocessor import SimilarityPostprocessor, NERPIINodePostprocessor, PrevNextNodePostprocessor\n",
    "# from llama_index.core.tools import QueryEngineTool\n",
    "# from llama_index.core.agent import AgentRunner, ReActAgentWorker\n",
    "# from llama_index.core.base.llms.types import ChatMessage\n",
    "# from llama_index.llms.huggingface import HuggingFaceLLM\n",
    "# from llama_index.llms.openai import OpenAI\n",
    "from llama_index.embeddings.openai import OpenAIEmbedding\n",
    "from llama_index.vector_stores.neo4jvector import Neo4jVectorStore\n",
    "# from llama_index.agent.openai import OpenAIAgentWorker\n",
    "from llama_index.llms.google_genai import GoogleGenAI\n",
    "# from llama_index.core.node_parser import TokenTextSplitter, SentenceSplitter\n",
    "from deepeval.metrics import AnswerRelevancyMetric, FaithfulnessMetric, ContextualRelevancyMetric\n",
    "from deepeval.test_case import LLMTestCase\n",
    "from deepeval.dataset import EvaluationDataset\n",
    "from deepeval import evaluate\n",
    "from neo4j import GraphDatabase"
   ]
  },
  {
   "cell_type": "code",
   "execution_count": 2,
   "metadata": {},
   "outputs": [
    {
     "data": {
      "text/plain": [
       "True"
      ]
     },
     "execution_count": 2,
     "metadata": {},
     "output_type": "execute_result"
    }
   ],
   "source": [
    "load_dotenv()"
   ]
  },
  {
   "cell_type": "code",
   "execution_count": 3,
   "metadata": {},
   "outputs": [],
   "source": [
    "DATASET_SIZE = 3"
   ]
  },
  {
   "cell_type": "code",
   "execution_count": 4,
   "metadata": {},
   "outputs": [],
   "source": [
    "i = 9\n",
    "hs = True\n",
    "llm_name = 'gemini-1.5-pro'\n",
    "top_k = 3\n",
    "chunk_size = 256\n",
    "preparation = 'TokenTextSplitter'"
   ]
  },
  {
   "cell_type": "code",
   "execution_count": null,
   "metadata": {},
   "outputs": [],
   "source": [
    "###### parse configuration\n",
    "with open('./config.toml', \"rb\") as file:\n",
    "    cfg = tomlib.load(file)\n",
    "\n",
    "cfg['config']['rag']['setup']['hybrid_search'] = hs\n",
    "# cfg['config']['rag']['models']['llm_openai'] = \"llama-3.2-11B-vision-instruct\"\n",
    "cfg['config']['rag']['setup']['similarity_top_k'] = top_k\n",
    "cfg['config']['rag']['setup']['chunk_size'] = chunk_size\n",
    "cfg['config']['rag']['setup']['preparation'] = preparation\n",
    "\n",
    "print(f'{cfg=}')\n",
    "\n",
    "###### load data\n",
    "dataset = json.load(open('./data/q&a.json', 'r'))"
   ]
  },
  {
   "cell_type": "code",
   "execution_count": 6,
   "metadata": {},
   "outputs": [],
   "source": [
    "llm = GoogleGenAI(\n",
    "    model=\"gemini-1.5-pro\",\n",
    "    api_key=cfg['config']['env']['GEMINI_API_KEY'],\n",
    "    temperature=cfg['config']['rag']['models']['temperature']\n",
    ")\n",
    "embed_model = OpenAIEmbedding(\n",
    "    model=cfg['config']['rag']['models']['em_openai'],\n",
    "    api_key=cfg['config']['env']['OPENAI_API_KEY'],\n",
    "    dimensions=cfg['config']['rag']['setup']['embedding_dimension']\n",
    ")\n",
    "\n",
    "Settings.llm = llm\n",
    "Settings.embed_model = embed_model "
   ]
  },
  {
   "cell_type": "markdown",
   "metadata": {},
   "source": [
    "## Predict"
   ]
  },
  {
   "cell_type": "code",
   "execution_count": 7,
   "metadata": {},
   "outputs": [],
   "source": [
    " # docstore = SimpleDocumentStore()\n",
    "vector_store = Neo4jVectorStore(\n",
    "    username=cfg['config']['env']['NEO4J_USER'],\n",
    "    password=cfg['config']['env']['NEO4J_PASSWORD'],\n",
    "    url=cfg['config']['env']['NEO4J_URI'],\n",
    "    embedding_dimension=cfg['config']['rag']['setup']['embedding_dimension'],\n",
    "    distance_strategy=cfg['config']['rag']['setup']['distance_strategy'],\n",
    "    index_name=cfg['config']['rag']['setup']['index_name'],\n",
    "    text_node_property=cfg['config']['rag']['setup']['text_node_property'],\n",
    "    hybrid_search=cfg['config']['rag']['setup']['hybrid_search'],\n",
    ")\n",
    "\n",
    "db_index = VectorStoreIndex.from_vector_store(vector_store)"
   ]
  },
  {
   "cell_type": "code",
   "execution_count": 7,
   "metadata": {},
   "outputs": [],
   "source": [
    "retriever = VectorIndexRetriever(\n",
    "    index=db_index,\n",
    "    similarity_top_k=cfg['config']['rag']['setup']['similarity_top_k'],\n",
    "    vector_store_query_mode=cfg['config']['rag']['setup']['vector_store_query_mode']\n",
    ")\n",
    "\n",
    "# custom response synthesizer\n",
    "response_synthesizer = get_response_synthesizer(\n",
    "    response_mode=cfg['config']['rag']['setup']['response_mode']\n",
    ")\n",
    "\n",
    "# combine custom query engine\n",
    "query_engine = RetrieverQueryEngine(\n",
    "    retriever=retriever,\n",
    "    response_synthesizer=response_synthesizer\n",
    ")\n",
    "\n",
    "###### configure setup\n",
    "setup = query_engine"
   ]
  },
  {
   "cell_type": "code",
   "execution_count": 8,
   "metadata": {},
   "outputs": [
    {
     "name": "stderr",
     "output_type": "stream",
     "text": [
      "  0%|          | 0/1 [00:00<?, ?it/s]Received notification from DBMS server: {severity: WARNING} {code: Neo.ClientNotification.Statement.FeatureDeprecationWarning} {category: DEPRECATION} {title: This feature is deprecated and will be removed in future versions.} {description: CALL subquery without a variable scope clause is now deprecated. Use CALL () { ... }} {position: line: 1, column: 1, offset: 0} for query: 'CALL { CALL db.index.vector.queryNodes($index, $k, $embedding) YIELD node, score WITH collect({node:node, score:score}) AS nodes, max(score) AS max UNWIND nodes AS n RETURN n.node AS node, (n.score / max) AS score UNION CALL db.index.fulltext.queryNodes($keyword_index, $query, {limit: $k}) YIELD node, score WITH collect({node:node, score:score}) AS nodes, max(score) AS max UNWIND nodes AS n RETURN n.node AS node, (n.score / max) AS score } WITH node, max(score) AS score ORDER BY score DESC LIMIT $k RETURN node.`text` AS text, score, node.id AS id, node {.*, `text`: Null, `embedding`: Null, id: Null } AS metadata'\n",
      "100%|██████████| 1/1 [00:02<00:00,  2.45s/it]"
     ]
    },
    {
     "name": "stdout",
     "output_type": "stream",
     "text": [
      "predictions=[Response(response='Returns are accepted within 30 days of purchase.\\n', source_nodes=[NodeWithScore(node=TextNode(id_='argo-team-9', embedding=None, metadata={'file_path': 'data/companies/argo-team.txt', 'file_name': 'argo-team.txt', 'file_type': 'text/plain', 'file_size': 6400, 'creation_date': '2025-03-24', 'last_modified_date': '2025-03-24'}, excluded_embed_metadata_keys=['file_name', 'file_type', 'file_size', 'creation_date', 'last_modified_date', 'last_accessed_date'], excluded_llm_metadata_keys=['file_name', 'file_type', 'file_size', 'creation_date', 'last_modified_date', 'last_accessed_date'], relationships={<NodeRelationship.SOURCE: '1'>: RelatedNodeInfo(node_id='69335b38-18c9-4061-a9b3-9cd02d9b2138', node_type='4', metadata={'file_path': 'data/companies/argo-team.txt', 'file_name': 'argo-team.txt', 'file_type': 'text/plain', 'file_size': 6400, 'creation_date': '2025-03-24', 'last_modified_date': '2025-03-24'}, hash='2e292f2e0a2ffd3061d1861b1a0b9a614e72e04883d82143e36c87c69c07a689'), <NodeRelationship.PREVIOUS: '2'>: RelatedNodeInfo(node_id='argo-team-8', node_type='1', metadata={'file_path': 'data/companies/argo-team.txt', 'file_name': 'argo-team.txt', 'file_type': 'text/plain', 'file_size': 6400, 'creation_date': '2025-03-24', 'last_modified_date': '2025-03-24'}, hash='a77b33e7a799906563b35175a25f9de11dc92925cd9cb0db89a85f0574eacf8a'), <NodeRelationship.NEXT: '3'>: RelatedNodeInfo(node_id='argo-team-10', node_type='1', metadata={}, hash='b7281d5cf6dddbf612eeb423267927c0f3da002f0b28ba5602845bda2996b467')}, metadata_template='{key}: {value}', metadata_separator='\\n', text='500.00 |\\n| ATE-403 | GPS-Guided Fertilizer Spreader FlexSpread 400 | Machinery | Precision spreading, GPS control | $12,500.00 |\\n\\n---\\n\\n## Policy Summaries:\\n\\n### Returns & Refunds Policy:\\nAgro Team Inc. accepts returns within 30 days of purchase. Products returned must be in original packaging and accompanied by an original purchase receipt. Agro Team Inc. does not accept opened, used, or damaged products. Refunds will be processed within 5-7 business days.\\n\\n### Delivery & Shipping Policy:\\nAgro Team Inc. provides nationwide delivery within 10 business days. Expedited shipping (3-5 business days) is available at additional charges. Orders exceeding $15,000.00 qualify for free standard shipping.\\n\\n### Customer Support Guidelines:\\nAgro Team Inc. provides customer support Monday–Saturday between 08:00 AM–06:00 PM CST. Technical issues should be communicated to the assigned technical support supervisor (Monica L. Reyes), reachable at techsupport@agroteaminc.com or via phone at +1 (217) 555-7667.', mimetype='text/plain', start_char_idx=3767, end_char_idx=4770, metadata_seperator='\\n', text_template='{metadata_str}\\n\\n{content}'), score=1.0), NodeWithScore(node=TextNode(id_='argo-team-8', embedding=None, metadata={'file_path': 'data/companies/argo-team.txt', 'file_name': 'argo-team.txt', 'file_type': 'text/plain', 'file_size': 6400, 'creation_date': '2025-03-24', 'last_modified_date': '2025-03-24'}, excluded_embed_metadata_keys=['file_name', 'file_type', 'file_size', 'creation_date', 'last_modified_date', 'last_accessed_date'], excluded_llm_metadata_keys=['file_name', 'file_type', 'file_size', 'creation_date', 'last_modified_date', 'last_accessed_date'], relationships={<NodeRelationship.SOURCE: '1'>: RelatedNodeInfo(node_id='69335b38-18c9-4061-a9b3-9cd02d9b2138', node_type='4', metadata={'file_path': 'data/companies/argo-team.txt', 'file_name': 'argo-team.txt', 'file_type': 'text/plain', 'file_size': 6400, 'creation_date': '2025-03-24', 'last_modified_date': '2025-03-24'}, hash='2e292f2e0a2ffd3061d1861b1a0b9a614e72e04883d82143e36c87c69c07a689'), <NodeRelationship.PREVIOUS: '2'>: RelatedNodeInfo(node_id='argo-team-7', node_type='1', metadata={'file_path': 'data/companies/argo-team.txt', 'file_name': 'argo-team.txt', 'file_type': 'text/plain', 'file_size': 6400, 'creation_date': '2025-03-24', 'last_modified_date': '2025-03-24'}, hash='1da7268e5ea2a47f868489c7bb40b9307da8d50a6e12b8b6dfb8fd6523a8e582'), <NodeRelationship.NEXT: '3'>: RelatedNodeInfo(node_id='argo-team-9', node_type='1', metadata={}, hash='32a3583cf59024a818eefdc4ed0705cb7f4435e95a9c409b5ceb386cee22ed34')}, metadata_template='{key}: {value}', metadata_separator='\\n', text='minimal residue | 1 Gallon | $145.00 |\\n\\n### Agricultural Technologies & Equipment:\\n| SKU | Product Name | Equipment Type | Features | Unit Price (USD) |\\n|-----|--------------|----------------|----------|------------------|\\n| ATE-401 | SmartFarm Soil Moisture Sensor SM-7 | IoT sensor | Wireless, Real-time Monitoring | $215.00 |\\n| ATE-402 | Drone Crop Imaging Kit DIK-4000 | UAV drone | Multispectral imaging, crop health detection | $4,500.00 |\\n| ATE-403 | GPS-Guided Fertilizer Spreader FlexSpread 400 | Machinery | Precision spreading, GPS control | $12,500.00 |\\n\\n---\\n\\n## Policy Summaries:\\n\\n### Returns & Refunds Policy:\\nAgro Team Inc. accepts returns within 30 days of purchase. Products returned must be in original packaging and accompanied by an original purchase receipt. Agro Team Inc. does not accept opened, used, or damaged products. Refunds will be processed within 5-7 business days.\\n\\n### Delivery & Shipping Policy:\\nAgro Team Inc.', mimetype='text/plain', start_char_idx=3330, end_char_idx=4275, metadata_seperator='\\n', text_template='{metadata_str}\\n\\n{content}'), score=0.9958853908937702), NodeWithScore(node=TextNode(id_='argo-team-10', embedding=None, metadata={'file_path': 'data/companies/argo-team.txt', 'file_name': 'argo-team.txt', 'file_type': 'text/plain', 'file_size': 6400, 'creation_date': '2025-03-24', 'last_modified_date': '2025-03-24'}, excluded_embed_metadata_keys=['file_name', 'file_type', 'file_size', 'creation_date', 'last_modified_date', 'last_accessed_date'], excluded_llm_metadata_keys=['file_name', 'file_type', 'file_size', 'creation_date', 'last_modified_date', 'last_accessed_date'], relationships={<NodeRelationship.SOURCE: '1'>: RelatedNodeInfo(node_id='69335b38-18c9-4061-a9b3-9cd02d9b2138', node_type='4', metadata={'file_path': 'data/companies/argo-team.txt', 'file_name': 'argo-team.txt', 'file_type': 'text/plain', 'file_size': 6400, 'creation_date': '2025-03-24', 'last_modified_date': '2025-03-24'}, hash='2e292f2e0a2ffd3061d1861b1a0b9a614e72e04883d82143e36c87c69c07a689'), <NodeRelationship.PREVIOUS: '2'>: RelatedNodeInfo(node_id='argo-team-9', node_type='1', metadata={'file_path': 'data/companies/argo-team.txt', 'file_name': 'argo-team.txt', 'file_type': 'text/plain', 'file_size': 6400, 'creation_date': '2025-03-24', 'last_modified_date': '2025-03-24'}, hash='580f3def6eb20d0df2ea17ff34522c96bb3349d5d5f6e2a5e1938363b156645d'), <NodeRelationship.NEXT: '3'>: RelatedNodeInfo(node_id='argo-team-11', node_type='1', metadata={}, hash='b33a4aa332e9d3531185bc6c2a6bb977fff106fdf2051627c34b504586ce6e5e')}, metadata_template='{key}: {value}', metadata_separator='\\n', text='provides nationwide delivery within 10 business days. Expedited shipping (3-5 business days) is available at additional charges. Orders exceeding $15,000.00 qualify for free standard shipping.\\n\\n### Customer Support Guidelines:\\nAgro Team Inc. provides customer support Monday–Saturday between 08:00 AM–06:00 PM CST. Technical issues should be communicated to the assigned technical support supervisor (Monica L. Reyes), reachable at techsupport@agroteaminc.com or via phone at +1 (217) 555-7667.\\n\\n---\\n\\n## Recent Projects and Partnerships:\\n\\n- **AgroTech Initiative (2023-Present):** Collaborating with Midwest University to deliver IoT integrated farming systems for increased efficiency and yield optimization.\\n- **Sustainable Harvest Partnership (2022-2025):** In coordination with Green Earth NGO, Agro Team Inc. promotes sustainable agricultural practices by providing subsidized eco-friendly fertilization and pest management solutions to local farms.\\n\\n---\\n\\n## Internal Project Terminology for LLM/Corpus Reference:\\n- AgroPrime™ – Indicates premium quality hybrid seed products.', mimetype='text/plain', start_char_idx=4276, end_char_idx=5357, metadata_seperator='\\n', text_template='{metadata_str}\\n\\n{content}'), score=0.9489399921345303)], metadata={'argo-team-9': {'file_path': 'data/companies/argo-team.txt', 'file_name': 'argo-team.txt', 'file_type': 'text/plain', 'file_size': 6400, 'creation_date': '2025-03-24', 'last_modified_date': '2025-03-24'}, 'argo-team-8': {'file_path': 'data/companies/argo-team.txt', 'file_name': 'argo-team.txt', 'file_type': 'text/plain', 'file_size': 6400, 'creation_date': '2025-03-24', 'last_modified_date': '2025-03-24'}, 'argo-team-10': {'file_path': 'data/companies/argo-team.txt', 'file_name': 'argo-team.txt', 'file_type': 'text/plain', 'file_size': 6400, 'creation_date': '2025-03-24', 'last_modified_date': '2025-03-24'}})]\n"
     ]
    },
    {
     "name": "stderr",
     "output_type": "stream",
     "text": [
      "\n"
     ]
    }
   ],
   "source": [
    "###### predict\n",
    "predictions = []\n",
    "for item in tqdm(dataset[:DATASET_SIZE]):\n",
    "    try:\n",
    "        response = setup.query(item.get('question'))\n",
    "        predictions.append(response)\n",
    "    except Exception as e:\n",
    "        print(e)\n",
    "        traceback.format_exc()\n",
    "\n",
    "print(f'{predictions=}')"
   ]
  },
  {
   "cell_type": "code",
   "execution_count": 11,
   "metadata": {},
   "outputs": [
    {
     "data": {
      "text/plain": [
       "('Returns are accepted within 30 days of purchase.\\n',\n",
       " ['500.00 |\\n| ATE-403 | GPS-Guided Fertilizer Spreader FlexSpread 400 | Machinery | Precision spreading, GPS control | $12,500.00 |\\n\\n---\\n\\n## Policy Summaries:\\n\\n### Returns & Refunds Policy:\\nAgro Team Inc. accepts returns within 30 days of purchase. Products returned must be in original packaging and accompanied by an original purchase receipt. Agro Team Inc. does not accept opened, used, or damaged products. Refunds will be processed within 5-7 business days.\\n\\n### Delivery & Shipping Policy:\\nAgro Team Inc. provides nationwide delivery within 10 business days. Expedited shipping (3-5 business days) is available at additional charges. Orders exceeding $15,000.00 qualify for free standard shipping.\\n\\n### Customer Support Guidelines:\\nAgro Team Inc. provides customer support Monday–Saturday between 08:00 AM–06:00 PM CST. Technical issues should be communicated to the assigned technical support supervisor (Monica L. Reyes), reachable at techsupport@agroteaminc.com or via phone at +1 (217) 555-7667.',\n",
       "  'minimal residue | 1 Gallon | $145.00 |\\n\\n### Agricultural Technologies & Equipment:\\n| SKU | Product Name | Equipment Type | Features | Unit Price (USD) |\\n|-----|--------------|----------------|----------|------------------|\\n| ATE-401 | SmartFarm Soil Moisture Sensor SM-7 | IoT sensor | Wireless, Real-time Monitoring | $215.00 |\\n| ATE-402 | Drone Crop Imaging Kit DIK-4000 | UAV drone | Multispectral imaging, crop health detection | $4,500.00 |\\n| ATE-403 | GPS-Guided Fertilizer Spreader FlexSpread 400 | Machinery | Precision spreading, GPS control | $12,500.00 |\\n\\n---\\n\\n## Policy Summaries:\\n\\n### Returns & Refunds Policy:\\nAgro Team Inc. accepts returns within 30 days of purchase. Products returned must be in original packaging and accompanied by an original purchase receipt. Agro Team Inc. does not accept opened, used, or damaged products. Refunds will be processed within 5-7 business days.\\n\\n### Delivery & Shipping Policy:\\nAgro Team Inc.',\n",
       "  'provides nationwide delivery within 10 business days. Expedited shipping (3-5 business days) is available at additional charges. Orders exceeding $15,000.00 qualify for free standard shipping.\\n\\n### Customer Support Guidelines:\\nAgro Team Inc. provides customer support Monday–Saturday between 08:00 AM–06:00 PM CST. Technical issues should be communicated to the assigned technical support supervisor (Monica L. Reyes), reachable at techsupport@agroteaminc.com or via phone at +1 (217) 555-7667.\\n\\n---\\n\\n## Recent Projects and Partnerships:\\n\\n- **AgroTech Initiative (2023-Present):** Collaborating with Midwest University to deliver IoT integrated farming systems for increased efficiency and yield optimization.\\n- **Sustainable Harvest Partnership (2022-2025):** In coordination with Green Earth NGO, Agro Team Inc. promotes sustainable agricultural practices by providing subsidized eco-friendly fertilization and pest management solutions to local farms.\\n\\n---\\n\\n## Internal Project Terminology for LLM/Corpus Reference:\\n- AgroPrime™ – Indicates premium quality hybrid seed products.'])"
      ]
     },
     "execution_count": 11,
     "metadata": {},
     "output_type": "execute_result"
    }
   ],
   "source": [
    "output = predictions[0].response\n",
    "\n",
    "context = [node.get_content() for node in predictions[0].source_nodes]\n",
    "output, context"
   ]
  },
  {
   "cell_type": "code",
   "execution_count": 16,
   "metadata": {},
   "outputs": [
    {
     "ename": "IndexError",
     "evalue": "list index out of range",
     "output_type": "error",
     "traceback": [
      "\u001b[0;31m---------------------------------------------------------------------------\u001b[0m",
      "\u001b[0;31mIndexError\u001b[0m                                Traceback (most recent call last)",
      "Cell \u001b[0;32mIn[16], line 1\u001b[0m\n\u001b[0;32m----> 1\u001b[0m \u001b[43mpredictions\u001b[49m\u001b[43m[\u001b[49m\u001b[38;5;241;43m0\u001b[39;49m\u001b[43m]\u001b[49m\u001b[38;5;241;43m.\u001b[39;49m\u001b[43msource_nodes\u001b[49m\u001b[43m[\u001b[49m\u001b[38;5;241;43m3\u001b[39;49m\u001b[43m]\u001b[49m\u001b[38;5;241m.\u001b[39mscore\n",
      "\u001b[0;31mIndexError\u001b[0m: list index out of range"
     ]
    }
   ],
   "source": [
    "predictions[0].source_nodes[3].score"
   ]
  },
  {
   "cell_type": "markdown",
   "metadata": {},
   "source": [
    "## Evaluate"
   ]
  },
  {
   "cell_type": "code",
   "execution_count": 7,
   "metadata": {},
   "outputs": [],
   "source": [
    "predictions = json.load(open(f'./predictions/i_{i}_hs_{hs}_llm_{llm_name}_topk_{top_k}_cs_{chunk_size}_prep_{preparation}.json', 'r'))"
   ]
  },
  {
   "cell_type": "code",
   "execution_count": 15,
   "metadata": {},
   "outputs": [
    {
     "name": "stderr",
     "output_type": "stream",
     "text": [
      "100%|██████████| 3/3 [00:00<00:00, 18504.28it/s]\n"
     ]
    },
    {
     "data": {
      "text/html": [
       "<pre style=\"white-space:pre;overflow-x:auto;line-height:normal;font-family:Menlo,'DejaVu Sans Mono',consolas,'Courier New',monospace\">✨ You're running DeepEval's latest <span style=\"color: #6a00ff; text-decoration-color: #6a00ff\">Answer Relevancy Metric</span>! <span style=\"color: #374151; text-decoration-color: #374151; font-weight: bold\">(</span><span style=\"color: #374151; text-decoration-color: #374151\">using gpt-4o-mini, </span><span style=\"color: #374151; text-decoration-color: #374151\">strict</span><span style=\"color: #374151; text-decoration-color: #374151\">=</span><span style=\"color: #374151; text-decoration-color: #374151; font-style: italic\">False</span><span style=\"color: #374151; text-decoration-color: #374151\">, </span><span style=\"color: #374151; text-decoration-color: #374151\">async_mode</span><span style=\"color: #374151; text-decoration-color: #374151\">=</span><span style=\"color: #374151; text-decoration-color: #374151; font-style: italic\">True</span><span style=\"color: #374151; text-decoration-color: #374151; font-weight: bold\">)</span><span style=\"color: #374151; text-decoration-color: #374151\">...</span>\n",
       "</pre>\n"
      ],
      "text/plain": [
       "✨ You're running DeepEval's latest \u001b[38;2;106;0;255mAnswer Relevancy Metric\u001b[0m! \u001b[1;38;2;55;65;81m(\u001b[0m\u001b[38;2;55;65;81musing gpt-4o-mini, \u001b[0m\u001b[38;2;55;65;81mstrict\u001b[0m\u001b[38;2;55;65;81m=\u001b[0m\u001b[3;38;2;55;65;81mFalse\u001b[0m\u001b[38;2;55;65;81m, \u001b[0m\u001b[38;2;55;65;81masync_mode\u001b[0m\u001b[38;2;55;65;81m=\u001b[0m\u001b[3;38;2;55;65;81mTrue\u001b[0m\u001b[1;38;2;55;65;81m)\u001b[0m\u001b[38;2;55;65;81m...\u001b[0m\n"
      ]
     },
     "metadata": {},
     "output_type": "display_data"
    },
    {
     "data": {
      "text/html": [
       "<pre style=\"white-space:pre;overflow-x:auto;line-height:normal;font-family:Menlo,'DejaVu Sans Mono',consolas,'Courier New',monospace\">✨ You're running DeepEval's latest <span style=\"color: #6a00ff; text-decoration-color: #6a00ff\">Faithfulness Metric</span>! <span style=\"color: #374151; text-decoration-color: #374151; font-weight: bold\">(</span><span style=\"color: #374151; text-decoration-color: #374151\">using gpt-4o-mini, </span><span style=\"color: #374151; text-decoration-color: #374151\">strict</span><span style=\"color: #374151; text-decoration-color: #374151\">=</span><span style=\"color: #374151; text-decoration-color: #374151; font-style: italic\">False</span><span style=\"color: #374151; text-decoration-color: #374151\">, </span><span style=\"color: #374151; text-decoration-color: #374151\">async_mode</span><span style=\"color: #374151; text-decoration-color: #374151\">=</span><span style=\"color: #374151; text-decoration-color: #374151; font-style: italic\">True</span><span style=\"color: #374151; text-decoration-color: #374151; font-weight: bold\">)</span><span style=\"color: #374151; text-decoration-color: #374151\">...</span>\n",
       "</pre>\n"
      ],
      "text/plain": [
       "✨ You're running DeepEval's latest \u001b[38;2;106;0;255mFaithfulness Metric\u001b[0m! \u001b[1;38;2;55;65;81m(\u001b[0m\u001b[38;2;55;65;81musing gpt-4o-mini, \u001b[0m\u001b[38;2;55;65;81mstrict\u001b[0m\u001b[38;2;55;65;81m=\u001b[0m\u001b[3;38;2;55;65;81mFalse\u001b[0m\u001b[38;2;55;65;81m, \u001b[0m\u001b[38;2;55;65;81masync_mode\u001b[0m\u001b[38;2;55;65;81m=\u001b[0m\u001b[3;38;2;55;65;81mTrue\u001b[0m\u001b[1;38;2;55;65;81m)\u001b[0m\u001b[38;2;55;65;81m...\u001b[0m\n"
      ]
     },
     "metadata": {},
     "output_type": "display_data"
    },
    {
     "data": {
      "text/html": [
       "<pre style=\"white-space:pre;overflow-x:auto;line-height:normal;font-family:Menlo,'DejaVu Sans Mono',consolas,'Courier New',monospace\">✨ You're running DeepEval's latest <span style=\"color: #6a00ff; text-decoration-color: #6a00ff\">Contextual Relevancy Metric</span>! <span style=\"color: #374151; text-decoration-color: #374151; font-weight: bold\">(</span><span style=\"color: #374151; text-decoration-color: #374151\">using gpt-4o-mini, </span><span style=\"color: #374151; text-decoration-color: #374151\">strict</span><span style=\"color: #374151; text-decoration-color: #374151\">=</span><span style=\"color: #374151; text-decoration-color: #374151; font-style: italic\">False</span><span style=\"color: #374151; text-decoration-color: #374151\">, </span>\n",
       "<span style=\"color: #374151; text-decoration-color: #374151\">async_mode</span><span style=\"color: #374151; text-decoration-color: #374151\">=</span><span style=\"color: #374151; text-decoration-color: #374151; font-style: italic\">True</span><span style=\"color: #374151; text-decoration-color: #374151; font-weight: bold\">)</span><span style=\"color: #374151; text-decoration-color: #374151\">...</span>\n",
       "</pre>\n"
      ],
      "text/plain": [
       "✨ You're running DeepEval's latest \u001b[38;2;106;0;255mContextual Relevancy Metric\u001b[0m! \u001b[1;38;2;55;65;81m(\u001b[0m\u001b[38;2;55;65;81musing gpt-4o-mini, \u001b[0m\u001b[38;2;55;65;81mstrict\u001b[0m\u001b[38;2;55;65;81m=\u001b[0m\u001b[3;38;2;55;65;81mFalse\u001b[0m\u001b[38;2;55;65;81m, \u001b[0m\n",
       "\u001b[38;2;55;65;81masync_mode\u001b[0m\u001b[38;2;55;65;81m=\u001b[0m\u001b[3;38;2;55;65;81mTrue\u001b[0m\u001b[1;38;2;55;65;81m)\u001b[0m\u001b[38;2;55;65;81m...\u001b[0m\n"
      ]
     },
     "metadata": {},
     "output_type": "display_data"
    },
    {
     "name": "stderr",
     "output_type": "stream",
     "text": [
      "Evaluating 3 test case(s) in parallel: |██████▋   | 67% (2/3) [Time Taken: 00:15,  7.73s/test case]ERROR:root:OpenAI Error: Could not parse response content as the length limit was reached - CompletionUsage(completion_tokens=16384, prompt_tokens=1056, total_tokens=17440, completion_tokens_details=CompletionTokensDetails(accepted_prediction_tokens=0, audio_tokens=0, reasoning_tokens=0, rejected_prediction_tokens=0), prompt_tokens_details=PromptTokensDetails(audio_tokens=0, cached_tokens=0)) Retrying: 1 time(s)...\n",
      "Evaluating 3 test case(s) in parallel: |██████████|100% (3/3) [Time Taken: 03:38, 72.82s/test case]"
     ]
    },
    {
     "name": "stdout",
     "output_type": "stream",
     "text": [
      "\n",
      "======================================================================\n",
      "\n",
      "Metrics Summary\n",
      "\n",
      "  - ✅ Answer Relevancy (score: 1.0, threshold: 0.5, strict: False, evaluation model: gpt-4o-mini, reason: The score is 1.00 because the response directly addressed the mission of Blue Horizon Energy without including any irrelevant statements., error: None)\n",
      "  - ✅ Faithfulness (score: 1.0, threshold: 0.5, strict: False, evaluation model: gpt-4o-mini, reason: The score is 1.00 because there are no contradictions between the actual output and the retrieval context, indicating perfect alignment., error: None)\n",
      "  - ❌ Contextual Relevancy (score: 0.07692307692307693, threshold: 0.5, strict: False, evaluation model: gpt-4o-mini, reason: The score is 0.08 because the retrieval context lacks specificity about the mission of Blue Horizon Energy, with multiple statements noting that they do not define it directly, such as 'The statement does not specifically state the mission of Blue Horizon Energy.' The relevant statement about providing clean, sustainable energy solutions touches on a goal but does not articulate the mission clearly., error: None)\n",
      "\n",
      "For test case:\n",
      "\n",
      "  - input: What is the mission of Blue Horizon Energy?\n",
      "  - actual output: To innovate and provide clean, sustainable energy solutions to support a greener future.\n",
      "\n",
      "  - expected output: To innovate and provide clean, sustainable energy solutions to support a greener future.\n",
      "  - context: None\n",
      "  - retrieval context: ['public on energy-saving techniques.\\n- **Frequency:** Monthly\\n- **Coordinator:** Mrs. Ellen Parker\\n\\n---\\n\\n## Strategic Partnerships\\n\\n### Partnerships\\n\\n#### 1. Global Renewable Alliance\\n- **Purpose:** Collective effort to address global energy challenges.\\n- **Role:** Technology and expertise sharing.\\n\\n#### 2. CleanTech Innovators Network\\n- **Purpose:** Collaborate on emerging technologies and sustainable practices.\\n- **Role:** Joint research and development projects.\\n\\n---\\n\\n## Customer Testimonials\\n\\n**1. John M., Residential Solar Customer**  \\n*\"The installation was seamless, and my energy bills have reduced by 40%!\"*\\n\\n**2. Sarah L., Business Owner**  \\n*\"Blue Horizon\\'s consultation reshaped our energy use, greatly improving efficiency.\"*\\n\\n**3. Tom H., Homeowner**  \\n*\"The EnergyVault X storage system ensures my home stays powered despite outages.\"*\\n\\n---\\n\\n## Future Goals\\n\\n### 1. Global Expansion\\n- **Objective:** Enter three new international markets by 2026.\\n\\n### 2. Carbon Neutrality\\n- **Objective:** Achieve carbon neutrality across all operations by 2030.\\n\\n### 3. Technological', '## Company Overview\\n\\n**Name:** Blue Horizon Energy  \\n**Industry:** Renewable Energy and Sustainable Technology  \\n**Headquarters:** San Francisco, CA, USA  \\n**Mission:** To innovate and provide clean, sustainable energy solutions to support a greener future.  \\n**Vision:** A world powered by renewable energy, ensuring sustainability for future generations.  \\n\\n---\\n\\n## Product Catalog\\n\\n### Solar Solutions\\n\\n#### 1. Solar Panels\\n- **Product Name:** SunStar Max\\n  - **Description:** High-efficiency solar panels with advanced photovoltaic technology.\\n  - **Specifications:**\\n    - Power Output: 400W\\n    - Efficiency: 22%\\n    - Dimensions: 1650mm x 992mm\\n  - **Price:** $250 per panel\\n  - **Responsible Staff:**  \\n    - Product Manager: Jane Doe  \\n    - Lead Engineer: Tom Smith\\n\\n#### 2. Solar Inverters\\n- **Product Name:** InvertPro S200\\n  - **Description:** Robust inverters for converting DC to AC electricity efficiently.\\n  - **Specifications:**', 'Twitter: @BlueHorizonEnergy  \\n- LinkedIn: Blue Horizon Energy  \\n\\n---\\n\\n## Research and Development\\n\\n### Current Projects\\n\\n#### 1. Next-Gen Solar Technology\\n- **Objective:** Develop ultra-thin, flexible solar panels with increased efficiency.\\n- **Timeline:** Estimated completion by Q3 2024\\n- **Lead Scientist:** Dr. Laura Chen\\n\\n#### 2. Offshore Wind Energy\\n- **Objective:** Design and test new floating wind turbines for offshore environments.\\n- **Timeline:** Prototype testing in Q2 2025\\n- **Lead Scientist:** Dr. Michael Turner\\n\\n#### 3. Advanced Energy Storage\\n- **Objective:** Innovate battery technologies using sustainable materials.\\n- **Timeline:** Ongoing, with semi-annual reviews\\n- **Lead Scientist:** Dr. Aisha Patel\\n\\n---\\n\\n## Educational Initiatives\\n\\n### Blue Horizon Academy\\n\\n**Courses Offered:**\\n\\n#### 1. Introduction to Renewable Energy\\n- **Duration:** 8 weeks\\n- **Description:** Basics of renewable energy technologies and their impact.\\n- **Instructor:** Prof. Anita Rao\\n\\n#### 2. Solar System Design\\n- **Duration:** 12 weeks\\n-']\n",
      "\n",
      "======================================================================\n",
      "\n",
      "Metrics Summary\n",
      "\n",
      "  - ✅ Answer Relevancy (score: 1.0, threshold: 0.5, strict: False, evaluation model: gpt-4o-mini, reason: The score is 1.00 because there are no irrelevant statements present in the response. The output directly addresses the question about the type of product, providing clear and relevant information., error: None)\n",
      "  - ✅ Faithfulness (score: 1.0, threshold: 0.5, strict: False, evaluation model: gpt-4o-mini, reason: The score is 1.00 because there are no contradictions present, indicating perfect alignment between the actual output and the retrieval context. Excellent job!, error: None)\n",
      "  - ❌ Contextual Relevancy (score: 0.16666666666666666, threshold: 0.5, strict: False, evaluation model: gpt-4o-mini, reason: The score is 0.17 because while it identifies AgroGrow Nitrogen Booster Urea-46 as 'Granular Urea Fertilizer,' the retrieval context primarily features irrelevant statements about other products and company initiatives which do not directly relate to this specific product., error: None)\n",
      "\n",
      "For test case:\n",
      "\n",
      "  - input: What type of product is the AgroGrow Nitrogen Booster Urea-46?\n",
      "  - actual output: It is a granular urea fertilizer.\n",
      "\n",
      "  - expected output: Granular Urea Fertilizer\n",
      "  - context: None\n",
      "  - retrieval context: ['lb sack | $180.00 |\\n\\n### Fertilizers & Crop Nutrition Products:\\n| SKU | Product Name | Fertilizer Type | Pack Size | Price per Unit (USD) |\\n|-----|--------------|-----------------|-----------|----------------------|\\n| AF-201 | AgroGrow Nitrogen Booster Urea-46 | Granular Urea Fertilizer | 100 lb sack | $65.00 |\\n| AF-202 | AgroGrow Phosphate Advantage 12-52-0 | Monoammonium Phosphate (MAP) | 50 lb bag | $40.00 |\\n| AF-203 | AgroGrow Potash Strong 0-0-60 | Potassium Chloride (MOP) | 50 lb sack | $38.00 |\\n| AF-204 | AgroGrow Balanced NPK (19-19-19) | NPK Fertilizer Blend | 50 lb bag | $42.00 |\\n\\n### Crop Protection Products:\\n| SKU | Product Name | Classification | Specification | Pack Size | Price per Unit (USD) |\\n|-----|--------------|----------------|---------------|-----------|----------------------|\\n| ACP-301 | AgroGuard', 'Reference:\\n- AgroPrime™ – Indicates premium quality hybrid seed products.\\n- AgroGrow™ – Designation for fertilizer products specialized to meet different crop nutrient requirements.\\n- AgroGuard™ – A portfolio covering herbicides, fungicides, and insecticides.\\n- SmartFarm™ – Brand name for smart agriculture IoT integration equipment.\\n\\n---\\n\\n## Confidential Internal Reference Information:\\n- Annual Sales Target for 2024: $27 million USD\\n- Priority Expansion Regions: Northeastern USA (Ohio, Pennsylvania, and New York) and Southeastern USA (Georgia, Alabama, Florida)\\n- Planned new product development for 2024: AgroPrime Corn Hybrid XP-950, Enhanced drought tolerance variety, targeted price approximately $345 per 50 lb sack.\\n\\n---\\n\\n## Ethos & Mission Statements (For Internal Training Use):\\n- **Company Vision**: Lead sustainability and technological advancement in agriculture by empowering farmers and agronomists with innovative products and expert advice.\\n- **Core Values**: Reliability, Sustainability, Community Engagement, Technological Innovation, and Customer Satisfaction.', 'business days) is available at additional charges. Orders exceeding $15,000.00 qualify for free standard shipping.\\n\\n### Customer Support Guidelines:\\nAgro Team Inc. provides customer support Monday–Saturday between 08:00 AM–06:00 PM CST. Technical issues should be communicated to the assigned technical support supervisor (Monica L. Reyes), reachable at techsupport@agroteaminc.com or via phone at +1 (217) 555-7667.\\n\\n---\\n\\n## Recent Projects and Partnerships:\\n\\n- **AgroTech Initiative (2023-Present):** Collaborating with Midwest University to deliver IoT integrated farming systems for increased efficiency and yield optimization.\\n- **Sustainable Harvest Partnership (2022-2025):** In coordination with Green Earth NGO, Agro Team Inc. promotes sustainable agricultural practices by providing subsidized eco-friendly fertilization and pest management solutions to local farms.\\n\\n---\\n\\n## Internal Project Terminology for LLM/Corpus Reference:\\n- AgroPrime™ – Indicates premium quality hybrid seed products.\\n- AgroGrow™ – Designation for fertilizer products specialized to meet different crop nutrient requirements.\\n- AgroGuard™ – A portfolio covering herbicides, fungicides, and']\n",
      "\n",
      "======================================================================\n",
      "\n",
      "Metrics Summary\n",
      "\n",
      "  - ✅ Answer Relevancy (score: 1.0, threshold: 0.5, strict: False, evaluation model: gpt-4o-mini, reason: The score is 1.00 because the output directly answers the question regarding the returns policy for Agro Team Inc. products without any irrelevant statements., error: None)\n",
      "  - ✅ Faithfulness (score: 1.0, threshold: 0.5, strict: False, evaluation model: gpt-4o-mini, reason: The score is 1.00 because there are no contradictions present, indicating that the actual output perfectly aligns with the retrieval context., error: None)\n",
      "  - ❌ Contextual Relevancy (score: 0.041666666666666664, threshold: 0.5, strict: False, evaluation model: gpt-4o-mini, reason: The score is 0.04 because while there is one relevant statement that 'Agro Team Inc. accepts returns within 30 days of purchase,' the majority of the context discusses unrelated topics such as shipping, customer support hours, and product descriptions, which makes the overall retrieval context almost irrelevant., error: None)\n",
      "\n",
      "For test case:\n",
      "\n",
      "  - input: How long is the returns policy valid for Agro Team Inc. products?\n",
      "  - actual output: Returns are accepted within 30 days of purchase.\n",
      "\n",
      "  - expected output: 30 days from purchase.\n",
      "  - context: None\n",
      "  - retrieval context: ['SmartFarm Soil Moisture Sensor SM-7 | IoT sensor | Wireless, Real-time Monitoring | $215.00 |\\n| ATE-402 | Drone Crop Imaging Kit DIK-4000 | UAV drone | Multispectral imaging, crop health detection | $4,500.00 |\\n| ATE-403 | GPS-Guided Fertilizer Spreader FlexSpread 400 | Machinery | Precision spreading, GPS control | $12,500.00 |\\n\\n---\\n\\n## Policy Summaries:\\n\\n### Returns & Refunds Policy:\\nAgro Team Inc. accepts returns within 30 days of purchase. Products returned must be in original packaging and accompanied by an original purchase receipt. Agro Team Inc. does not accept opened, used, or damaged products. Refunds will be processed within 5-7 business days.\\n\\n### Delivery & Shipping Policy:\\nAgro Team Inc. provides nationwide delivery within 10 business days. Expedited shipping (3-5 business days) is available at additional charges. Orders exceeding $15,000.00 qualify for free standard shipping.\\n\\n### Customer Support Guidelines:\\nAgro Team Inc. provides customer support Monday–Saturday between 08:00 AM–06:00 PM CST.', 'business days) is available at additional charges. Orders exceeding $15,000.00 qualify for free standard shipping.\\n\\n### Customer Support Guidelines:\\nAgro Team Inc. provides customer support Monday–Saturday between 08:00 AM–06:00 PM CST. Technical issues should be communicated to the assigned technical support supervisor (Monica L. Reyes), reachable at techsupport@agroteaminc.com or via phone at +1 (217) 555-7667.\\n\\n---\\n\\n## Recent Projects and Partnerships:\\n\\n- **AgroTech Initiative (2023-Present):** Collaborating with Midwest University to deliver IoT integrated farming systems for increased efficiency and yield optimization.\\n- **Sustainable Harvest Partnership (2022-2025):** In coordination with Green Earth NGO, Agro Team Inc. promotes sustainable agricultural practices by providing subsidized eco-friendly fertilization and pest management solutions to local farms.\\n\\n---\\n\\n## Internal Project Terminology for LLM/Corpus Reference:\\n- AgroPrime™ – Indicates premium quality hybrid seed products.\\n- AgroGrow™ – Designation for fertilizer products specialized to meet different crop nutrient requirements.\\n- AgroGuard™ – A portfolio covering herbicides, fungicides, and', 'Reference:\\n- AgroPrime™ – Indicates premium quality hybrid seed products.\\n- AgroGrow™ – Designation for fertilizer products specialized to meet different crop nutrient requirements.\\n- AgroGuard™ – A portfolio covering herbicides, fungicides, and insecticides.\\n- SmartFarm™ – Brand name for smart agriculture IoT integration equipment.\\n\\n---\\n\\n## Confidential Internal Reference Information:\\n- Annual Sales Target for 2024: $27 million USD\\n- Priority Expansion Regions: Northeastern USA (Ohio, Pennsylvania, and New York) and Southeastern USA (Georgia, Alabama, Florida)\\n- Planned new product development for 2024: AgroPrime Corn Hybrid XP-950, Enhanced drought tolerance variety, targeted price approximately $345 per 50 lb sack.\\n\\n---\\n\\n## Ethos & Mission Statements (For Internal Training Use):\\n- **Company Vision**: Lead sustainability and technological advancement in agriculture by empowering farmers and agronomists with innovative products and expert advice.\\n- **Core Values**: Reliability, Sustainability, Community Engagement, Technological Innovation, and Customer Satisfaction.']\n",
      "\n",
      "======================================================================\n",
      "\n",
      "Overall Metric Pass Rates\n",
      "\n",
      "Answer Relevancy: 100.00% pass rate\n",
      "Faithfulness: 100.00% pass rate\n",
      "Contextual Relevancy: 0.00% pass rate\n",
      "\n",
      "======================================================================\n",
      "\n"
     ]
    },
    {
     "name": "stderr",
     "output_type": "stream",
     "text": [
      "\n"
     ]
    },
    {
     "data": {
      "text/html": [
       "<pre style=\"white-space:pre;overflow-x:auto;line-height:normal;font-family:Menlo,'DejaVu Sans Mono',consolas,'Courier New',monospace\">\n",
       "<span style=\"color: #05f58d; text-decoration-color: #05f58d\">✓</span> Tests finished 🎉! Run <span style=\"color: #008000; text-decoration-color: #008000; font-weight: bold\">'deepeval login'</span> to save and analyze evaluation results on Confident AI.\n",
       " \n",
       "✨👀 Looking for a place for your LLM test data to live 🏡❤️ ? Use <span style=\"color: #6a00ff; text-decoration-color: #6a00ff\">Confident AI</span> to get &amp; share testing reports, \n",
       "experiment with models/prompts, and catch regressions for your LLM system. Just run <span style=\"color: #008080; text-decoration-color: #008080\">'deepeval login'</span> in the CLI. \n",
       "\n",
       "</pre>\n"
      ],
      "text/plain": [
       "\n",
       "\u001b[38;2;5;245;141m✓\u001b[0m Tests finished 🎉! Run \u001b[1;32m'deepeval login'\u001b[0m to save and analyze evaluation results on Confident AI.\n",
       " \n",
       "✨👀 Looking for a place for your LLM test data to live 🏡❤️ ? Use \u001b[38;2;106;0;255mConfident AI\u001b[0m to get & share testing reports, \n",
       "experiment with models/prompts, and catch regressions for your LLM system. Just run \u001b[36m'deepeval login'\u001b[0m in the CLI. \n",
       "\n"
      ]
     },
     "metadata": {},
     "output_type": "display_data"
    }
   ],
   "source": [
    "evaluations = []\n",
    "test_cases = []\n",
    "for j, item in enumerate(tqdm(dataset[:DATASET_SIZE])):\n",
    "    # define test case\n",
    "    test_case = LLMTestCase(\n",
    "        input=item.get('question'),\n",
    "        actual_output=predictions[j]['response'],\n",
    "        expected_output=item.get('answer'),\n",
    "        retrieval_context=predictions[j]['source_nodes']\n",
    "    )\n",
    "    test_cases.append(test_case)\n",
    "\n",
    "answer_relevancy_metric = AnswerRelevancyMetric(model=cfg['config']['rag']['models']['llm_openai'])\n",
    "faithfulness_metric = FaithfulnessMetric(model=cfg['config']['rag']['models']['llm_openai'])\n",
    "contextual_relevancy_metric = ContextualRelevancyMetric(model=cfg['config']['rag']['models']['llm_openai'])\n",
    "\n",
    "# eval_dataset = EvaluationDataset(test_cases)\n",
    "# results = eval_dataset.evaluate([answer_relevancy_metric, faithfulness_metric, contextual_relevancy_metric])\n",
    "\n",
    "results = evaluate(\n",
    "    test_cases=test_cases, \n",
    "    metrics=[answer_relevancy_metric, faithfulness_metric, contextual_relevancy_metric],\n",
    "    max_concurrent=50\n",
    ")\n",
    "\n",
    "# answer_relevancy_metric.measure(test_case)\n",
    "# faithfulness_metric.measure(test_case)\n",
    "# contextual_relevancy_metric.measure(test_case)\n",
    "    \n",
    "# evaluations.append({\n",
    "#     \"answer_relevancy\": {\n",
    "#         \"reason\": answer_relevancy_metric.reason,\n",
    "#         \"score\": answer_relevancy_metric.score\n",
    "#     },\n",
    "#     \"faithfulness\": {\n",
    "#         \"reason\": faithfulness_metric.reason,\n",
    "#         \"score\": faithfulness_metric.score\n",
    "#     },\n",
    "#     \"contextual_relevancy\": {\n",
    "#         \"reason\": contextual_relevancy_metric.reason,\n",
    "#         \"score\": contextual_relevancy_metric.score\n",
    "#     }\n",
    "# })\n"
   ]
  },
  {
   "cell_type": "code",
   "execution_count": 18,
   "metadata": {},
   "outputs": [
    {
     "data": {
      "text/plain": [
       "EvaluationResult(test_results=[TestResult(name='test_case_2', success=False, metrics_data=[MetricData(name='Answer Relevancy', threshold=0.5, success=True, score=1.0, reason='The score is 1.00 because the response directly addressed the mission of Blue Horizon Energy without including any irrelevant statements.', strict_mode=False, evaluation_model='gpt-4o-mini', error=None, evaluation_cost=0.00025065, verbose_logs='Statements:\\n[\\n    \"To innovate and provide clean energy solutions.\",\\n    \"To provide sustainable energy solutions.\",\\n    \"Support a greener future.\"\\n] \\n \\nVerdicts:\\n[\\n    {\\n        \"verdict\": \"yes\",\\n        \"reason\": null\\n    },\\n    {\\n        \"verdict\": \"yes\",\\n        \"reason\": null\\n    },\\n    {\\n        \"verdict\": \"idk\",\\n        \"reason\": null\\n    }\\n]'), MetricData(name='Faithfulness', threshold=0.5, success=True, score=1.0, reason='The score is 1.00 because there are no contradictions between the actual output and the retrieval context, indicating perfect alignment.', strict_mode=False, evaluation_model='gpt-4o-mini', error=None, evaluation_cost=0.0005466, verbose_logs='Truths (limit=None):\\n[\\n    \"Blue Horizon Energy is located in San Francisco, CA, USA.\",\\n    \"Blue Horizon Energy operates in the Renewable Energy and Sustainable Technology industry.\",\\n    \"Blue Horizon Energy has a mission to provide clean, sustainable energy solutions.\",\\n    \"Blue Horizon Energy aims to achieve carbon neutrality across all operations by 2030.\",\\n    \"Blue Horizon Energy plans to expand into three new international markets by 2026.\",\\n    \"John M. is a residential solar customer who reported a 40% reduction in energy bills after installation.\",\\n    \"Sarah L. is a business owner who benefited from Blue Horizon\\'s consultation to improve energy efficiency.\",\\n    \"Tom H. is a homeowner using the EnergyVault X storage system to maintain power during outages.\",\\n    \"The company has a partnership with the Global Renewable Alliance for technology and expertise sharing.\",\\n    \"The company collaborates on emerging technologies through the CleanTech Innovators Network.\"\\n] \\n \\nClaims:\\n[\\n    \"The goal is to innovate and provide clean, sustainable energy solutions.\",\\n    \"The clean, sustainable energy solutions are aimed at supporting a greener future.\"\\n] \\n \\nVerdicts:\\n[\\n    {\\n        \"verdict\": \"yes\",\\n        \"reason\": null\\n    },\\n    {\\n        \"verdict\": \"idk\",\\n        \"reason\": null\\n    }\\n]'), MetricData(name='Contextual Relevancy', threshold=0.5, success=False, score=0.07692307692307693, reason=\"The score is 0.08 because the retrieval context lacks specificity about the mission of Blue Horizon Energy, with multiple statements noting that they do not define it directly, such as 'The statement does not specifically state the mission of Blue Horizon Energy.' The relevant statement about providing clean, sustainable energy solutions touches on a goal but does not articulate the mission clearly.\", strict_mode=False, evaluation_model='gpt-4o-mini', error=None, evaluation_cost=0.00085035, verbose_logs='Verdicts:\\n[\\n    {\\n        \"verdicts\": [\\n            {\\n                \"statement\": \"Purpose: Collective effort to address global energy challenges.\",\\n                \"verdict\": \"no\",\\n                \"reason\": \"The statement refers to a collective effort without specifying the mission of Blue Horizon Energy.\"\\n            },\\n            {\\n                \"statement\": \"Purpose: Collaborate on emerging technologies and sustainable practices.\",\\n                \"verdict\": \"no\",\\n                \"reason\": \"While related, it does not directly state the mission of Blue Horizon Energy.\"\\n            },\\n            {\\n                \"statement\": \"The installation was seamless, and my energy bills have reduced by 40%!\",\\n                \"verdict\": \"no\",\\n                \"reason\": \"This testimonial does not provide information on the mission of Blue Horizon Energy.\"\\n            },\\n            {\\n                \"statement\": \"Blue Horizon\\'s consultation reshaped our energy use, greatly improving efficiency.\",\\n                \"verdict\": \"no\",\\n                \"reason\": \"This statement focuses on customer experience and does not describe the mission of Blue Horizon Energy.\"\\n            },\\n            {\\n                \"statement\": \"The EnergyVault X storage system ensures my home stays powered despite outages.\",\\n                \"verdict\": \"no\",\\n                \"reason\": \"This statement discusses a product rather than the mission of Blue Horizon Energy.\"\\n            },\\n            {\\n                \"statement\": \"Objective: Enter three new international markets by 2026.\",\\n                \"verdict\": \"no\",\\n                \"reason\": \"This statement outlines a goal rather than the mission itself.\"\\n            },\\n            {\\n                \"statement\": \"Objective: Achieve carbon neutrality across all operations by 2030.\",\\n                \"verdict\": \"no\",\\n                \"reason\": \"This statement indicates a goal instead of defining the mission of Blue Horizon Energy.\"\\n            }\\n        ]\\n    },\\n    {\\n        \"verdicts\": [\\n            {\\n                \"statement\": \"To innovate and provide clean, sustainable energy solutions to support a greener future.\",\\n                \"verdict\": \"yes\",\\n                \"reason\": null\\n            },\\n            {\\n                \"statement\": \"A world powered by renewable energy, ensuring sustainability for future generations.\",\\n                \"verdict\": \"no\",\\n                \"reason\": \"Although related to sustainability, the statement does not specify the mission of Blue Horizon Energy.\"\\n            }\\n        ]\\n    },\\n    {\\n        \"verdicts\": [\\n            {\\n                \"statement\": \"Blue Horizon Energy is involved in developing ultra-thin, flexible solar panels with increased efficiency.\",\\n                \"verdict\": \"no\",\\n                \"reason\": \"The statement does not specifically state the mission of Blue Horizon Energy, focusing instead on a project objective.\"\\n            },\\n            {\\n                \"statement\": \"Blue Horizon Energy is designing and testing new floating wind turbines for offshore environments.\",\\n                \"verdict\": \"no\",\\n                \"reason\": \"The statement does not specify the mission of Blue Horizon Energy, instead detailing a specific project.\"\\n            },\\n            {\\n                \"statement\": \"Blue Horizon Energy is innovating battery technologies using sustainable materials.\",\\n                \"verdict\": \"no\",\\n                \"reason\": \"The statement describes an ongoing project without addressing the mission of the organization.\"\\n            },\\n            {\\n                \"statement\": \"Blue Horizon Academy offers courses in renewable energy technologies.\",\\n                \"verdict\": \"no\",\\n                \"reason\": \"The statement focuses on educational initiatives rather than the mission of Blue Horizon Energy.\"\\n            }\\n        ]\\n    }\\n]')], conversational=False, multimodal=False, input='What is the mission of Blue Horizon Energy?', actual_output='To innovate and provide clean, sustainable energy solutions to support a greener future.\\n', expected_output='To innovate and provide clean, sustainable energy solutions to support a greener future.', context=None, retrieval_context=['public on energy-saving techniques.\\n- **Frequency:** Monthly\\n- **Coordinator:** Mrs. Ellen Parker\\n\\n---\\n\\n## Strategic Partnerships\\n\\n### Partnerships\\n\\n#### 1. Global Renewable Alliance\\n- **Purpose:** Collective effort to address global energy challenges.\\n- **Role:** Technology and expertise sharing.\\n\\n#### 2. CleanTech Innovators Network\\n- **Purpose:** Collaborate on emerging technologies and sustainable practices.\\n- **Role:** Joint research and development projects.\\n\\n---\\n\\n## Customer Testimonials\\n\\n**1. John M., Residential Solar Customer**  \\n*\"The installation was seamless, and my energy bills have reduced by 40%!\"*\\n\\n**2. Sarah L., Business Owner**  \\n*\"Blue Horizon\\'s consultation reshaped our energy use, greatly improving efficiency.\"*\\n\\n**3. Tom H., Homeowner**  \\n*\"The EnergyVault X storage system ensures my home stays powered despite outages.\"*\\n\\n---\\n\\n## Future Goals\\n\\n### 1. Global Expansion\\n- **Objective:** Enter three new international markets by 2026.\\n\\n### 2. Carbon Neutrality\\n- **Objective:** Achieve carbon neutrality across all operations by 2030.\\n\\n### 3. Technological', '## Company Overview\\n\\n**Name:** Blue Horizon Energy  \\n**Industry:** Renewable Energy and Sustainable Technology  \\n**Headquarters:** San Francisco, CA, USA  \\n**Mission:** To innovate and provide clean, sustainable energy solutions to support a greener future.  \\n**Vision:** A world powered by renewable energy, ensuring sustainability for future generations.  \\n\\n---\\n\\n## Product Catalog\\n\\n### Solar Solutions\\n\\n#### 1. Solar Panels\\n- **Product Name:** SunStar Max\\n  - **Description:** High-efficiency solar panels with advanced photovoltaic technology.\\n  - **Specifications:**\\n    - Power Output: 400W\\n    - Efficiency: 22%\\n    - Dimensions: 1650mm x 992mm\\n  - **Price:** $250 per panel\\n  - **Responsible Staff:**  \\n    - Product Manager: Jane Doe  \\n    - Lead Engineer: Tom Smith\\n\\n#### 2. Solar Inverters\\n- **Product Name:** InvertPro S200\\n  - **Description:** Robust inverters for converting DC to AC electricity efficiently.\\n  - **Specifications:**', 'Twitter: @BlueHorizonEnergy  \\n- LinkedIn: Blue Horizon Energy  \\n\\n---\\n\\n## Research and Development\\n\\n### Current Projects\\n\\n#### 1. Next-Gen Solar Technology\\n- **Objective:** Develop ultra-thin, flexible solar panels with increased efficiency.\\n- **Timeline:** Estimated completion by Q3 2024\\n- **Lead Scientist:** Dr. Laura Chen\\n\\n#### 2. Offshore Wind Energy\\n- **Objective:** Design and test new floating wind turbines for offshore environments.\\n- **Timeline:** Prototype testing in Q2 2025\\n- **Lead Scientist:** Dr. Michael Turner\\n\\n#### 3. Advanced Energy Storage\\n- **Objective:** Innovate battery technologies using sustainable materials.\\n- **Timeline:** Ongoing, with semi-annual reviews\\n- **Lead Scientist:** Dr. Aisha Patel\\n\\n---\\n\\n## Educational Initiatives\\n\\n### Blue Horizon Academy\\n\\n**Courses Offered:**\\n\\n#### 1. Introduction to Renewable Energy\\n- **Duration:** 8 weeks\\n- **Description:** Basics of renewable energy technologies and their impact.\\n- **Instructor:** Prof. Anita Rao\\n\\n#### 2. Solar System Design\\n- **Duration:** 12 weeks\\n-']), TestResult(name='test_case_1', success=False, metrics_data=[MetricData(name='Answer Relevancy', threshold=0.5, success=True, score=1.0, reason='The score is 1.00 because there are no irrelevant statements present in the response. The output directly addresses the question about the type of product, providing clear and relevant information.', strict_mode=False, evaluation_model='gpt-4o-mini', error=None, evaluation_cost=0.00022635, verbose_logs='Statements:\\n[\\n    \"It is a granular urea fertilizer.\"\\n] \\n \\nVerdicts:\\n[\\n    {\\n        \"verdict\": \"yes\",\\n        \"reason\": null\\n    }\\n]'), MetricData(name='Faithfulness', threshold=0.5, success=True, score=1.0, reason='The score is 1.00 because there are no contradictions present, indicating perfect alignment between the actual output and the retrieval context. Excellent job!', strict_mode=False, evaluation_model='gpt-4o-mini', error=None, evaluation_cost=0.0006855, verbose_logs='Truths (limit=None):\\n[\\n    \"AgroGrow Nitrogen Booster Urea-46 is a granular urea fertilizer packaged in a 100 lb sack and priced at $65.00.\",\\n    \"AgroGrow Phosphate Advantage 12-52-0 is a monoammonium phosphate fertilizer packaged in a 50 lb bag and priced at $40.00.\",\\n    \"AgroGrow Potash Strong 0-0-60 is a potassium chloride fertilizer packaged in a 50 lb sack and priced at $38.00.\",\\n    \"AgroGrow Balanced NPK (19-19-19) is an NPK fertilizer blend packaged in a 50 lb bag and priced at $42.00.\",\\n    \"AgroGuard is a portfolio covering herbicides, fungicides, and insecticides.\",\\n    \"AgroPrime is a designation for premium quality hybrid seed products.\",\\n    \"AgroGrow is a designation for fertilizer products specialized for different crop nutrient requirements.\",\\n    \"SmartFarm is the brand name for smart agriculture IoT integration equipment.\",\\n    \"The annual sales target for 2024 is $27 million USD.\",\\n    \"The priority expansion regions for Agro Team Inc. are Northeastern USA (Ohio, Pennsylvania, New York) and Southeastern USA (Georgia, Alabama, Florida).\",\\n    \"Agro Team Inc. plans to launch a new product in 2024: AgroPrime Corn Hybrid XP-950, which will have enhanced drought tolerance and a targeted price of approximately $345 per 50 lb sack.\",\\n    \"Customer support is available Monday to Saturday between 08:00 AM and 06:00 PM CST.\",\\n    \"Technical support can be contacted via email at techsupport@agroteaminc.com or by phone at +1 (217) 555-7667.\",\\n    \"The AgroTech Initiative started in 2023 and involves collaboration with Midwest University to create IoT integrated farming systems.\",\\n    \"The Sustainable Harvest Partnership runs from 2022 to 2025 and promotes sustainable agricultural practices by providing subsidized eco-friendly solutions.\"\\n] \\n \\nClaims:\\n[\\n    \"It is a granular urea fertilizer.\"\\n] \\n \\nVerdicts:\\n[\\n    {\\n        \"verdict\": \"yes\",\\n        \"reason\": null\\n    }\\n]'), MetricData(name='Contextual Relevancy', threshold=0.5, success=False, score=0.16666666666666666, reason=\"The score is 0.17 because while it identifies AgroGrow Nitrogen Booster Urea-46 as 'Granular Urea Fertilizer,' the retrieval context primarily features irrelevant statements about other products and company initiatives which do not directly relate to this specific product.\", strict_mode=False, evaluation_model='gpt-4o-mini', error=None, evaluation_cost=0.00119025, verbose_logs='Verdicts:\\n[\\n    {\\n        \"verdicts\": [\\n            {\\n                \"statement\": \"AgroGrow Nitrogen Booster Urea-46 is Granular Urea Fertilizer.\",\\n                \"verdict\": \"yes\",\\n                \"reason\": null\\n            },\\n            {\\n                \"statement\": \"AgroGrow Phosphate Advantage 12-52-0 is Monoammonium Phosphate (MAP).\",\\n                \"verdict\": \"no\",\\n                \"reason\": \"The retrieval context contained information about a different product (\\'AgroGrow Phosphate Advantage 12-52-0\\') when it is not related to the query about AgroGrow Nitrogen Booster Urea-46.\"\\n            },\\n            {\\n                \"statement\": \"AgroGrow Potash Strong 0-0-60 is Potassium Chloride (MOP).\",\\n                \"verdict\": \"no\",\\n                \"reason\": \"The retrieval context contained information about a different product (\\'AgroGrow Potash Strong 0-0-60\\') when it is not related to the query about AgroGrow Nitrogen Booster Urea-46.\"\\n            },\\n            {\\n                \"statement\": \"AgroGrow Balanced NPK (19-19-19) is NPK Fertilizer Blend.\",\\n                \"verdict\": \"no\",\\n                \"reason\": \"The retrieval context contained information about a different product (\\'AgroGrow Balanced NPK (19-19-19)\\') when it is not related to the query about AgroGrow Nitrogen Booster Urea-46.\"\\n            }\\n        ]\\n    },\\n    {\\n        \"verdicts\": [\\n            {\\n                \"statement\": \"AgroGrow\\\\u2122 \\\\u2013 Designation for fertilizer products specialized to meet different crop nutrient requirements.\",\\n                \"verdict\": \"yes\",\\n                \"reason\": null\\n            },\\n            {\\n                \"statement\": \"AgroPrime\\\\u2122 \\\\u2013 Indicates premium quality hybrid seed products.\",\\n                \"verdict\": \"no\",\\n                \"reason\": \"This statement discusses seed products and does not pertain to the AgroGrow Nitrogen Booster Urea-46.\"\\n            },\\n            {\\n                \"statement\": \"AgroGuard\\\\u2122 \\\\u2013 A portfolio covering herbicides, fungicides, and insecticides.\",\\n                \"verdict\": \"no\",\\n                \"reason\": \"This statement mentions herbicides, fungicides, and insecticides, which are unrelated to fertilizers like the AgroGrow Nitrogen Booster.\"\\n            },\\n            {\\n                \"statement\": \"SmartFarm\\\\u2122 \\\\u2013 Brand name for smart agriculture IoT integration equipment.\",\\n                \"verdict\": \"no\",\\n                \"reason\": \"This statement refers to IoT equipment, which is not relevant to the AgroGrow Nitrogen Booster Urea-46.\"\\n            },\\n            {\\n                \"statement\": \"Annual Sales Target for 2024: $27 million USD.\",\\n                \"verdict\": \"no\",\\n                \"reason\": \"This statement is about sales targets and does not provide any information regarding AgroGrow products.\"\\n            },\\n            {\\n                \"statement\": \"Priority Expansion Regions: Northeastern USA (Ohio, Pennsylvania, and New York) and Southeastern USA (Georgia, Alabama, Florida).\",\\n                \"verdict\": \"no\",\\n                \"reason\": \"This statement focuses on expansion regions, which does not relate to the product type of AgroGrow Nitrogen Booster Urea-46.\"\\n            },\\n            {\\n                \"statement\": \"Planned new product development for 2024: AgroPrime Corn Hybrid XP-950, Enhanced drought tolerance variety, targeted price approximately $345 per 50 lb sack.\",\\n                \"verdict\": \"no\",\\n                \"reason\": \"This statement discusses a corn hybrid product and does not provide any information about the AgroGrow Nitrogen Booster Urea-46.\"\\n            },\\n            {\\n                \"statement\": \"Company Vision: Lead sustainability and technological advancement in agriculture by empowering farmers and agronomists with innovative products and expert advice.\",\\n                \"verdict\": \"no\",\\n                \"reason\": \"This statement describes the company\\'s vision and does not directly address the AgroGrow product.\"\\n            },\\n            {\\n                \"statement\": \"Core Values: Reliability, Sustainability, Community Engagement, Technological Innovation, and Customer Satisfaction.\",\\n                \"verdict\": \"no\",\\n                \"reason\": \"This statement outlines the company\\'s values, which are unrelated to specifics about AgroGrow products.\"\\n            }\\n        ]\\n    },\\n    {\\n        \"verdicts\": [\\n            {\\n                \"statement\": \"AgroGrow\\\\u2122 \\\\u2013 Designation for fertilizer products specialized to meet different crop nutrient requirements.\",\\n                \"verdict\": \"yes\",\\n                \"reason\": null\\n            },\\n            {\\n                \"statement\": \"Agro Team Inc. provides customer support Monday\\\\u2013Saturday between 08:00 AM\\\\u201306:00 PM CST.\",\\n                \"verdict\": \"no\",\\n                \"reason\": \"The retrieval context contained the information \\'Agro Team Inc. provides customer support...\\' which is irrelevant to the type of product.\"\\n            },\\n            {\\n                \"statement\": \"Orders exceeding $15,000.00 qualify for free standard shipping.\",\\n                \"verdict\": \"no\",\\n                \"reason\": \"The retrieval context contained shipping information which does not relate to the product type.\"\\n            },\\n            {\\n                \"statement\": \"AgroTech Initiative (2023-Present): Collaborating with Midwest University to deliver IoT integrated farming systems for increased efficiency and yield optimization.\",\\n                \"verdict\": \"no\",\\n                \"reason\": \"The context describes an initiative that is not related to the AgroGrow product type.\"\\n            },\\n            {\\n                \"statement\": \"Sustainable Harvest Partnership (2022-2025): In coordination with Green Earth NGO, Agro Team Inc. promotes sustainable agricultural practices by providing subsidized eco-friendly fertilization and pest management solutions to local farms.\",\\n                \"verdict\": \"no\",\\n                \"reason\": \"The context discusses a partnership for sustainable practices, which is unrelated to the specific product type.\"\\n            }\\n        ]\\n    }\\n]')], conversational=False, multimodal=False, input='What type of product is the AgroGrow Nitrogen Booster Urea-46?', actual_output='It is a granular urea fertilizer.\\n', expected_output='Granular Urea Fertilizer', context=None, retrieval_context=['lb sack | $180.00 |\\n\\n### Fertilizers & Crop Nutrition Products:\\n| SKU | Product Name | Fertilizer Type | Pack Size | Price per Unit (USD) |\\n|-----|--------------|-----------------|-----------|----------------------|\\n| AF-201 | AgroGrow Nitrogen Booster Urea-46 | Granular Urea Fertilizer | 100 lb sack | $65.00 |\\n| AF-202 | AgroGrow Phosphate Advantage 12-52-0 | Monoammonium Phosphate (MAP) | 50 lb bag | $40.00 |\\n| AF-203 | AgroGrow Potash Strong 0-0-60 | Potassium Chloride (MOP) | 50 lb sack | $38.00 |\\n| AF-204 | AgroGrow Balanced NPK (19-19-19) | NPK Fertilizer Blend | 50 lb bag | $42.00 |\\n\\n### Crop Protection Products:\\n| SKU | Product Name | Classification | Specification | Pack Size | Price per Unit (USD) |\\n|-----|--------------|----------------|---------------|-----------|----------------------|\\n| ACP-301 | AgroGuard', 'Reference:\\n- AgroPrime™ – Indicates premium quality hybrid seed products.\\n- AgroGrow™ – Designation for fertilizer products specialized to meet different crop nutrient requirements.\\n- AgroGuard™ – A portfolio covering herbicides, fungicides, and insecticides.\\n- SmartFarm™ – Brand name for smart agriculture IoT integration equipment.\\n\\n---\\n\\n## Confidential Internal Reference Information:\\n- Annual Sales Target for 2024: $27 million USD\\n- Priority Expansion Regions: Northeastern USA (Ohio, Pennsylvania, and New York) and Southeastern USA (Georgia, Alabama, Florida)\\n- Planned new product development for 2024: AgroPrime Corn Hybrid XP-950, Enhanced drought tolerance variety, targeted price approximately $345 per 50 lb sack.\\n\\n---\\n\\n## Ethos & Mission Statements (For Internal Training Use):\\n- **Company Vision**: Lead sustainability and technological advancement in agriculture by empowering farmers and agronomists with innovative products and expert advice.\\n- **Core Values**: Reliability, Sustainability, Community Engagement, Technological Innovation, and Customer Satisfaction.', 'business days) is available at additional charges. Orders exceeding $15,000.00 qualify for free standard shipping.\\n\\n### Customer Support Guidelines:\\nAgro Team Inc. provides customer support Monday–Saturday between 08:00 AM–06:00 PM CST. Technical issues should be communicated to the assigned technical support supervisor (Monica L. Reyes), reachable at techsupport@agroteaminc.com or via phone at +1 (217) 555-7667.\\n\\n---\\n\\n## Recent Projects and Partnerships:\\n\\n- **AgroTech Initiative (2023-Present):** Collaborating with Midwest University to deliver IoT integrated farming systems for increased efficiency and yield optimization.\\n- **Sustainable Harvest Partnership (2022-2025):** In coordination with Green Earth NGO, Agro Team Inc. promotes sustainable agricultural practices by providing subsidized eco-friendly fertilization and pest management solutions to local farms.\\n\\n---\\n\\n## Internal Project Terminology for LLM/Corpus Reference:\\n- AgroPrime™ – Indicates premium quality hybrid seed products.\\n- AgroGrow™ – Designation for fertilizer products specialized to meet different crop nutrient requirements.\\n- AgroGuard™ – A portfolio covering herbicides, fungicides, and']), TestResult(name='test_case_0', success=False, metrics_data=[MetricData(name='Answer Relevancy', threshold=0.5, success=True, score=1.0, reason='The score is 1.00 because the output directly answers the question regarding the returns policy for Agro Team Inc. products without any irrelevant statements.', strict_mode=False, evaluation_model='gpt-4o-mini', error=None, evaluation_cost=0.00022455, verbose_logs='Statements:\\n[\\n    \"Returns are accepted within 30 days of purchase.\"\\n] \\n \\nVerdicts:\\n[\\n    {\\n        \"verdict\": \"yes\",\\n        \"reason\": null\\n    }\\n]'), MetricData(name='Faithfulness', threshold=0.5, success=True, score=1.0, reason='The score is 1.00 because there are no contradictions present, indicating that the actual output perfectly aligns with the retrieval context.', strict_mode=False, evaluation_model='gpt-4o-mini', error=None, evaluation_cost=0.0006648, verbose_logs='Truths (limit=None):\\n[\\n    \"Agro Team Inc. accepts returns within 30 days of purchase.\",\\n    \"Products returned must be in original packaging and accompanied by an original purchase receipt.\",\\n    \"Agro Team Inc. does not accept opened, used, or damaged products.\",\\n    \"Refunds will be processed within 5-7 business days.\",\\n    \"Agro Team Inc. provides nationwide delivery within 10 business days.\",\\n    \"Expedited shipping is available at additional charges and can be 3-5 business days.\",\\n    \"Orders exceeding $15,000.00 qualify for free standard shipping.\",\\n    \"Customer support is available Monday–Saturday between 08:00 AM–06:00 PM CST.\",\\n    \"Technical issues should be communicated to the assigned technical support supervisor (Monica L. Reyes).\",\\n    \"Monica L. Reyes can be reached at techsupport@agroteaminc.com or via phone at +1 (217) 555-7667.\",\\n    \"AgroTech Initiative is a collaboration with Midwest University to deliver IoT integrated farming systems for increased efficiency and yield optimization.\",\\n    \"The Sustainable Harvest Partnership promotes sustainable agricultural practices from 2022 to 2025 in coordination with Green Earth NGO.\",\\n    \"AgroPrime™ indicates premium quality hybrid seed products.\",\\n    \"AgroGrow™ designates fertilizer products specialized for different crop nutrient requirements.\",\\n    \"AgroGuard™ covers a portfolio of herbicides, fungicides, and insecticides.\",\\n    \"SmartFarm™ is the brand name for smart agriculture IoT integration equipment.\",\\n    \"The annual sales target for 2024 is $27 million USD.\",\\n    \"Priority expansion regions include Northeastern USA (Ohio, Pennsylvania, and New York) and Southeastern USA (Georgia, Alabama, Florida).\",\\n    \"Planned new product development for 2024 includes AgroPrime Corn Hybrid XP-950, an enhanced drought tolerance variety, with a targeted price of approximately $345 per 50 lb sack.\"\\n] \\n \\nClaims:\\n[\\n    \"Returns are accepted within 30 days of purchase.\"\\n] \\n \\nVerdicts:\\n[\\n    {\\n        \"verdict\": \"yes\",\\n        \"reason\": null\\n    }\\n]'), MetricData(name='Contextual Relevancy', threshold=0.5, success=False, score=0.041666666666666664, reason=\"The score is 0.04 because while there is one relevant statement that 'Agro Team Inc. accepts returns within 30 days of purchase,' the majority of the context discusses unrelated topics such as shipping, customer support hours, and product descriptions, which makes the overall retrieval context almost irrelevant.\", strict_mode=False, evaluation_model='gpt-4o-mini', error=None, evaluation_cost=0.0012909, verbose_logs='Verdicts:\\n[\\n    {\\n        \"verdicts\": [\\n            {\\n                \"statement\": \"Agro Team Inc. accepts returns within 30 days of purchase.\",\\n                \"verdict\": \"yes\",\\n                \"reason\": null\\n            },\\n            {\\n                \"statement\": \"Products returned must be in original packaging and accompanied by an original purchase receipt.\",\\n                \"verdict\": \"no\",\\n                \"reason\": \"This statement contains information about return requirements, not the duration of the returns policy.\"\\n            },\\n            {\\n                \"statement\": \"Agro Team Inc. does not accept opened, used, or damaged products.\",\\n                \"verdict\": \"no\",\\n                \"reason\": \"This statement mentions product condition for returns and does not address the validity period of the returns policy.\"\\n            },\\n            {\\n                \"statement\": \"Refunds will be processed within 5-7 business days.\",\\n                \"verdict\": \"no\",\\n                \"reason\": \"This statement pertains to the timing of refunds rather than the validity period of the returns policy.\"\\n            },\\n            {\\n                \"statement\": \"Agro Team Inc. provides nationwide delivery within 10 business days.\",\\n                \"verdict\": \"no\",\\n                \"reason\": \"This statement discusses the delivery policy, which is unrelated to the returns policy duration.\"\\n            },\\n            {\\n                \"statement\": \"Expedited shipping (3-5 business days) is available at additional charges.\",\\n                \"verdict\": \"no\",\\n                \"reason\": \"This statement is about shipping options and does not relate to the returns policy.\"\\n            },\\n            {\\n                \"statement\": \"Orders exceeding $15,000.00 qualify for free standard shipping.\",\\n                \"verdict\": \"no\",\\n                \"reason\": \"This statement relates to shipping thresholds and does not address the returns policy.\"\\n            },\\n            {\\n                \"statement\": \"Agro Team Inc. provides customer support Monday\\\\u2013Saturday between 08:00 AM\\\\u201306:00 PM CST.\",\\n                \"verdict\": \"no\",\\n                \"reason\": \"This statement provides customer support hours and does not contain relevant information about the returns policy.\"\\n            }\\n        ]\\n    },\\n    {\\n        \"verdicts\": [\\n            {\\n                \"statement\": \"Agro Team Inc. provides customer support Monday\\\\u2013Saturday between 08:00 AM\\\\u201306:00 PM CST.\",\\n                \"verdict\": \"no\",\\n                \"reason\": \"The statement mentions customer support hours, which does not relate to the returns policy.\"\\n            },\\n            {\\n                \"statement\": \"Orders exceeding $15,000.00 qualify for free standard shipping.\",\\n                \"verdict\": \"no\",\\n                \"reason\": \"This statement discusses shipping qualification rather than the returns policy.\"\\n            },\\n            {\\n                \"statement\": \"AgroTech Initiative (2023-Present): Collaborating with Midwest University to deliver IoT integrated farming systems for increased efficiency and yield optimization.\",\\n                \"verdict\": \"no\",\\n                \"reason\": \"This statement focuses on a project initiative and is unrelated to returns policy.\"\\n            },\\n            {\\n                \"statement\": \"Sustainable Harvest Partnership (2022-2025): In coordination with Green Earth NGO, Agro Team Inc. promotes sustainable agricultural practices by providing subsidized eco-friendly fertilization and pest management solutions to local farms.\",\\n                \"verdict\": \"no\",\\n                \"reason\": \"This statement describes a partnership initiative rather than information about the returns policy.\"\\n            },\\n            {\\n                \"statement\": \"AgroPrime\\\\u2122 \\\\u2013 Indicates premium quality hybrid seed products.\",\\n                \"verdict\": \"no\",\\n                \"reason\": \"This defines a product line and does not address the returns policy.\"\\n            },\\n            {\\n                \"statement\": \"AgroGrow\\\\u2122 \\\\u2013 Designation for fertilizer products specialized to meet different crop nutrient requirements.\",\\n                \"verdict\": \"no\",\\n                \"reason\": \"This defines another product line and is irrelevant to the returns policy.\"\\n            },\\n            {\\n                \"statement\": \"AgroGuard\\\\u2122 \\\\u2013 A portfolio covering herbicides, fungicides, and\",\\n                \"verdict\": \"no\",\\n                \"reason\": \"The statement is incomplete and pertains to products rather than the returns policy.\"\\n            }\\n        ]\\n    },\\n    {\\n        \"verdicts\": [\\n            {\\n                \"statement\": \"AgroPrime\\\\u2122 \\\\u2013 Indicates premium quality hybrid seed products.\",\\n                \"verdict\": \"no\",\\n                \"reason\": \"The statement does not address the returns policy as it only describes a product line.\"\\n            },\\n            {\\n                \"statement\": \"AgroGrow\\\\u2122 \\\\u2013 Designation for fertilizer products specialized to meet different crop nutrient requirements.\",\\n                \"verdict\": \"no\",\\n                \"reason\": \"This statement is irrelevant as it talks about a specific product without mentioning any returns policy.\"\\n            },\\n            {\\n                \"statement\": \"AgroGuard\\\\u2122 \\\\u2013 A portfolio covering herbicides, fungicides, and insecticides.\",\\n                \"verdict\": \"no\",\\n                \"reason\": \"The statement is irrelevant because it only provides information about product categories without referencing a returns policy.\"\\n            },\\n            {\\n                \"statement\": \"SmartFarm\\\\u2122 \\\\u2013 Brand name for smart agriculture IoT integration equipment.\",\\n                \"verdict\": \"no\",\\n                \"reason\": \"This information does not relate to the returns policy as it only describes a brand.\"\\n            },\\n            {\\n                \"statement\": \"Annual Sales Target for 2024: $27 million USD.\",\\n                \"verdict\": \"no\",\\n                \"reason\": \"The statement does not relate to the returns policy but is instead about financial targets.\"\\n            },\\n            {\\n                \"statement\": \"Priority Expansion Regions: Northeastern USA (Ohio, Pennsylvania, and New York) and Southeastern USA (Georgia, Alabama, Florida)\",\\n                \"verdict\": \"no\",\\n                \"reason\": \"This is irrelevant as it discusses geographical expansion strategies without relation to returns policy.\"\\n            },\\n            {\\n                \"statement\": \"Planned new product development for 2024: AgroPrime Corn Hybrid XP-950, Enhanced drought tolerance variety, targeted price approximately $345 per 50 lb sack.\",\\n                \"verdict\": \"no\",\\n                \"reason\": \"This statement is irrelevant as it focuses on new products rather than any returns policy.\"\\n            },\\n            {\\n                \"statement\": \"Company Vision: Lead sustainability and technological advancement in agriculture by empowering farmers and agronomists with innovative products and expert advice.\",\\n                \"verdict\": \"no\",\\n                \"reason\": \"The vision statement does not mention the returns policy and thus is not relevant.\"\\n            },\\n            {\\n                \"statement\": \"Core Values: Reliability, Sustainability, Community Engagement, Technological Innovation, and Customer Satisfaction.\",\\n                \"verdict\": \"no\",\\n                \"reason\": \"Core values are not related to the returns policy as they reflect company principles rather than procedural information.\"\\n            }\\n        ]\\n    }\\n]')], conversational=False, multimodal=False, input='How long is the returns policy valid for Agro Team Inc. products?', actual_output='Returns are accepted within 30 days of purchase.\\n', expected_output='30 days from purchase.', context=None, retrieval_context=['SmartFarm Soil Moisture Sensor SM-7 | IoT sensor | Wireless, Real-time Monitoring | $215.00 |\\n| ATE-402 | Drone Crop Imaging Kit DIK-4000 | UAV drone | Multispectral imaging, crop health detection | $4,500.00 |\\n| ATE-403 | GPS-Guided Fertilizer Spreader FlexSpread 400 | Machinery | Precision spreading, GPS control | $12,500.00 |\\n\\n---\\n\\n## Policy Summaries:\\n\\n### Returns & Refunds Policy:\\nAgro Team Inc. accepts returns within 30 days of purchase. Products returned must be in original packaging and accompanied by an original purchase receipt. Agro Team Inc. does not accept opened, used, or damaged products. Refunds will be processed within 5-7 business days.\\n\\n### Delivery & Shipping Policy:\\nAgro Team Inc. provides nationwide delivery within 10 business days. Expedited shipping (3-5 business days) is available at additional charges. Orders exceeding $15,000.00 qualify for free standard shipping.\\n\\n### Customer Support Guidelines:\\nAgro Team Inc. provides customer support Monday–Saturday between 08:00 AM–06:00 PM CST.', 'business days) is available at additional charges. Orders exceeding $15,000.00 qualify for free standard shipping.\\n\\n### Customer Support Guidelines:\\nAgro Team Inc. provides customer support Monday–Saturday between 08:00 AM–06:00 PM CST. Technical issues should be communicated to the assigned technical support supervisor (Monica L. Reyes), reachable at techsupport@agroteaminc.com or via phone at +1 (217) 555-7667.\\n\\n---\\n\\n## Recent Projects and Partnerships:\\n\\n- **AgroTech Initiative (2023-Present):** Collaborating with Midwest University to deliver IoT integrated farming systems for increased efficiency and yield optimization.\\n- **Sustainable Harvest Partnership (2022-2025):** In coordination with Green Earth NGO, Agro Team Inc. promotes sustainable agricultural practices by providing subsidized eco-friendly fertilization and pest management solutions to local farms.\\n\\n---\\n\\n## Internal Project Terminology for LLM/Corpus Reference:\\n- AgroPrime™ – Indicates premium quality hybrid seed products.\\n- AgroGrow™ – Designation for fertilizer products specialized to meet different crop nutrient requirements.\\n- AgroGuard™ – A portfolio covering herbicides, fungicides, and', 'Reference:\\n- AgroPrime™ – Indicates premium quality hybrid seed products.\\n- AgroGrow™ – Designation for fertilizer products specialized to meet different crop nutrient requirements.\\n- AgroGuard™ – A portfolio covering herbicides, fungicides, and insecticides.\\n- SmartFarm™ – Brand name for smart agriculture IoT integration equipment.\\n\\n---\\n\\n## Confidential Internal Reference Information:\\n- Annual Sales Target for 2024: $27 million USD\\n- Priority Expansion Regions: Northeastern USA (Ohio, Pennsylvania, and New York) and Southeastern USA (Georgia, Alabama, Florida)\\n- Planned new product development for 2024: AgroPrime Corn Hybrid XP-950, Enhanced drought tolerance variety, targeted price approximately $345 per 50 lb sack.\\n\\n---\\n\\n## Ethos & Mission Statements (For Internal Training Use):\\n- **Company Vision**: Lead sustainability and technological advancement in agriculture by empowering farmers and agronomists with innovative products and expert advice.\\n- **Core Values**: Reliability, Sustainability, Community Engagement, Technological Innovation, and Customer Satisfaction.'])], confident_link=None)"
      ]
     },
     "execution_count": 18,
     "metadata": {},
     "output_type": "execute_result"
    }
   ],
   "source": [
    "results"
   ]
  },
  {
   "cell_type": "code",
   "execution_count": 23,
   "metadata": {},
   "outputs": [
    {
     "data": {
      "text/plain": [
       "[MetricData(name='Answer Relevancy', threshold=0.5, success=True, score=1.0, reason='The score is 1.00 because the response directly addressed the mission of Blue Horizon Energy without including any irrelevant statements.', strict_mode=False, evaluation_model='gpt-4o-mini', error=None, evaluation_cost=0.00025065, verbose_logs='Statements:\\n[\\n    \"To innovate and provide clean energy solutions.\",\\n    \"To provide sustainable energy solutions.\",\\n    \"Support a greener future.\"\\n] \\n \\nVerdicts:\\n[\\n    {\\n        \"verdict\": \"yes\",\\n        \"reason\": null\\n    },\\n    {\\n        \"verdict\": \"yes\",\\n        \"reason\": null\\n    },\\n    {\\n        \"verdict\": \"idk\",\\n        \"reason\": null\\n    }\\n]'),\n",
       " MetricData(name='Faithfulness', threshold=0.5, success=True, score=1.0, reason='The score is 1.00 because there are no contradictions between the actual output and the retrieval context, indicating perfect alignment.', strict_mode=False, evaluation_model='gpt-4o-mini', error=None, evaluation_cost=0.0005466, verbose_logs='Truths (limit=None):\\n[\\n    \"Blue Horizon Energy is located in San Francisco, CA, USA.\",\\n    \"Blue Horizon Energy operates in the Renewable Energy and Sustainable Technology industry.\",\\n    \"Blue Horizon Energy has a mission to provide clean, sustainable energy solutions.\",\\n    \"Blue Horizon Energy aims to achieve carbon neutrality across all operations by 2030.\",\\n    \"Blue Horizon Energy plans to expand into three new international markets by 2026.\",\\n    \"John M. is a residential solar customer who reported a 40% reduction in energy bills after installation.\",\\n    \"Sarah L. is a business owner who benefited from Blue Horizon\\'s consultation to improve energy efficiency.\",\\n    \"Tom H. is a homeowner using the EnergyVault X storage system to maintain power during outages.\",\\n    \"The company has a partnership with the Global Renewable Alliance for technology and expertise sharing.\",\\n    \"The company collaborates on emerging technologies through the CleanTech Innovators Network.\"\\n] \\n \\nClaims:\\n[\\n    \"The goal is to innovate and provide clean, sustainable energy solutions.\",\\n    \"The clean, sustainable energy solutions are aimed at supporting a greener future.\"\\n] \\n \\nVerdicts:\\n[\\n    {\\n        \"verdict\": \"yes\",\\n        \"reason\": null\\n    },\\n    {\\n        \"verdict\": \"idk\",\\n        \"reason\": null\\n    }\\n]'),\n",
       " MetricData(name='Contextual Relevancy', threshold=0.5, success=False, score=0.07692307692307693, reason=\"The score is 0.08 because the retrieval context lacks specificity about the mission of Blue Horizon Energy, with multiple statements noting that they do not define it directly, such as 'The statement does not specifically state the mission of Blue Horizon Energy.' The relevant statement about providing clean, sustainable energy solutions touches on a goal but does not articulate the mission clearly.\", strict_mode=False, evaluation_model='gpt-4o-mini', error=None, evaluation_cost=0.00085035, verbose_logs='Verdicts:\\n[\\n    {\\n        \"verdicts\": [\\n            {\\n                \"statement\": \"Purpose: Collective effort to address global energy challenges.\",\\n                \"verdict\": \"no\",\\n                \"reason\": \"The statement refers to a collective effort without specifying the mission of Blue Horizon Energy.\"\\n            },\\n            {\\n                \"statement\": \"Purpose: Collaborate on emerging technologies and sustainable practices.\",\\n                \"verdict\": \"no\",\\n                \"reason\": \"While related, it does not directly state the mission of Blue Horizon Energy.\"\\n            },\\n            {\\n                \"statement\": \"The installation was seamless, and my energy bills have reduced by 40%!\",\\n                \"verdict\": \"no\",\\n                \"reason\": \"This testimonial does not provide information on the mission of Blue Horizon Energy.\"\\n            },\\n            {\\n                \"statement\": \"Blue Horizon\\'s consultation reshaped our energy use, greatly improving efficiency.\",\\n                \"verdict\": \"no\",\\n                \"reason\": \"This statement focuses on customer experience and does not describe the mission of Blue Horizon Energy.\"\\n            },\\n            {\\n                \"statement\": \"The EnergyVault X storage system ensures my home stays powered despite outages.\",\\n                \"verdict\": \"no\",\\n                \"reason\": \"This statement discusses a product rather than the mission of Blue Horizon Energy.\"\\n            },\\n            {\\n                \"statement\": \"Objective: Enter three new international markets by 2026.\",\\n                \"verdict\": \"no\",\\n                \"reason\": \"This statement outlines a goal rather than the mission itself.\"\\n            },\\n            {\\n                \"statement\": \"Objective: Achieve carbon neutrality across all operations by 2030.\",\\n                \"verdict\": \"no\",\\n                \"reason\": \"This statement indicates a goal instead of defining the mission of Blue Horizon Energy.\"\\n            }\\n        ]\\n    },\\n    {\\n        \"verdicts\": [\\n            {\\n                \"statement\": \"To innovate and provide clean, sustainable energy solutions to support a greener future.\",\\n                \"verdict\": \"yes\",\\n                \"reason\": null\\n            },\\n            {\\n                \"statement\": \"A world powered by renewable energy, ensuring sustainability for future generations.\",\\n                \"verdict\": \"no\",\\n                \"reason\": \"Although related to sustainability, the statement does not specify the mission of Blue Horizon Energy.\"\\n            }\\n        ]\\n    },\\n    {\\n        \"verdicts\": [\\n            {\\n                \"statement\": \"Blue Horizon Energy is involved in developing ultra-thin, flexible solar panels with increased efficiency.\",\\n                \"verdict\": \"no\",\\n                \"reason\": \"The statement does not specifically state the mission of Blue Horizon Energy, focusing instead on a project objective.\"\\n            },\\n            {\\n                \"statement\": \"Blue Horizon Energy is designing and testing new floating wind turbines for offshore environments.\",\\n                \"verdict\": \"no\",\\n                \"reason\": \"The statement does not specify the mission of Blue Horizon Energy, instead detailing a specific project.\"\\n            },\\n            {\\n                \"statement\": \"Blue Horizon Energy is innovating battery technologies using sustainable materials.\",\\n                \"verdict\": \"no\",\\n                \"reason\": \"The statement describes an ongoing project without addressing the mission of the organization.\"\\n            },\\n            {\\n                \"statement\": \"Blue Horizon Academy offers courses in renewable energy technologies.\",\\n                \"verdict\": \"no\",\\n                \"reason\": \"The statement focuses on educational initiatives rather than the mission of Blue Horizon Energy.\"\\n            }\\n        ]\\n    }\\n]')]"
      ]
     },
     "execution_count": 23,
     "metadata": {},
     "output_type": "execute_result"
    }
   ],
   "source": [
    "results.test_results[0].metrics_data"
   ]
  },
  {
   "cell_type": "code",
   "execution_count": null,
   "metadata": {},
   "outputs": [],
   "source": [
    "\n",
    "{\n",
    "    \"answer_relevancy\": {\n",
    "        \"reason\": answer_relevancy_metric.reason,\n",
    "        \"score\": answer_relevancy_metric.score\n",
    "    },\n",
    "    \"faithfulness\": {\n",
    "        \"reason\": faithfulness_metric.reason,\n",
    "        \"score\": faithfulness_metric.score\n",
    "    },\n",
    "    \"contextual_relevancy\": {\n",
    "        \"reason\": contextual_relevancy_metric.reason,\n",
    "        \"score\": contextual_relevancy_metric.score\n",
    "    }\n",
    "}"
   ]
  },
  {
   "cell_type": "code",
   "execution_count": null,
   "metadata": {},
   "outputs": [],
   "source": [
    "###### save the results\n",
    "with open(f'./evaluations/i_{j}_hs_{hs}_llm_{llm_name}_topk_{top_k}_cs_{chunk_size}_prep_{preparation}.json', 'w') as f:\n",
    "    json.dump(evaluations, f)"
   ]
  }
 ],
 "metadata": {
  "kernelspec": {
   "display_name": "diploma-_ntinp80-py3.11",
   "language": "python",
   "name": "python3"
  },
  "language_info": {
   "codemirror_mode": {
    "name": "ipython",
    "version": 3
   },
   "file_extension": ".py",
   "mimetype": "text/x-python",
   "name": "python",
   "nbconvert_exporter": "python",
   "pygments_lexer": "ipython3",
   "version": "3.11.6"
  }
 },
 "nbformat": 4,
 "nbformat_minor": 2
}
